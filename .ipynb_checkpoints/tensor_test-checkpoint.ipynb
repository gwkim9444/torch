{
 "cells": [
  {
   "cell_type": "code",
   "execution_count": 3,
   "id": "civil-johnson",
   "metadata": {},
   "outputs": [],
   "source": [
    "from __future__ import print_function"
   ]
  },
  {
   "cell_type": "code",
   "execution_count": 4,
   "id": "fatty-preference",
   "metadata": {},
   "outputs": [],
   "source": [
    "import torch"
   ]
  },
  {
   "cell_type": "code",
   "execution_count": 5,
   "id": "american-exemption",
   "metadata": {},
   "outputs": [
    {
     "name": "stdout",
     "output_type": "stream",
     "text": [
      "tensor([[-1.3984e+02,  4.5566e-41, -3.9100e+02],\n",
      "        [ 4.5566e-41, -4.0833e+02,  4.5566e-41],\n",
      "        [-3.8925e+02,  4.5566e-41,  1.9541e-27],\n",
      "        [ 4.5566e-41,  1.9586e-27,  4.5566e-41],\n",
      "        [ 1.9586e-27,  4.5566e-41, -2.3563e+02]])\n"
     ]
    }
   ],
   "source": [
    "x = torch.empty(5,3)\n",
    "print(x)"
   ]
  },
  {
   "cell_type": "code",
   "execution_count": 6,
   "id": "incorporated-batch",
   "metadata": {},
   "outputs": [
    {
     "name": "stdout",
     "output_type": "stream",
     "text": [
      "tensor([[0.1909, 0.5438, 0.4258],\n",
      "        [0.9446, 0.8444, 0.6490],\n",
      "        [0.3542, 0.8846, 0.8612],\n",
      "        [0.6323, 0.4594, 0.7666],\n",
      "        [0.3641, 0.9366, 0.2692]])\n"
     ]
    }
   ],
   "source": [
    "x = torch.rand(5,3)\n",
    "print(x)"
   ]
  },
  {
   "cell_type": "code",
   "execution_count": 7,
   "id": "primary-spending",
   "metadata": {},
   "outputs": [
    {
     "name": "stdout",
     "output_type": "stream",
     "text": [
      "tensor([[0, 0, 0],\n",
      "        [0, 0, 0],\n",
      "        [0, 0, 0],\n",
      "        [0, 0, 0],\n",
      "        [0, 0, 0]])\n"
     ]
    }
   ],
   "source": [
    "x = torch.zeros(5,3,dtype=torch.long)\n",
    "x = print(x)"
   ]
  },
  {
   "cell_type": "code",
   "execution_count": 8,
   "id": "generous-kitchen",
   "metadata": {},
   "outputs": [
    {
     "name": "stdout",
     "output_type": "stream",
     "text": [
      "tensor([5.5000, 3.0000])\n"
     ]
    }
   ],
   "source": [
    "x = torch.tensor([5.5,3])\n",
    "print(x)"
   ]
  },
  {
   "cell_type": "code",
   "execution_count": 9,
   "id": "practical-supervision",
   "metadata": {
    "scrolled": true
   },
   "outputs": [
    {
     "name": "stdout",
     "output_type": "stream",
     "text": [
      "tensor([[1., 1., 1.],\n",
      "        [1., 1., 1.],\n",
      "        [1., 1., 1.],\n",
      "        [1., 1., 1.],\n",
      "        [1., 1., 1.]], dtype=torch.float64)\n",
      "tensor([[0.5196, 0.2571, 0.7783],\n",
      "        [0.2053, 0.1328, 0.2940],\n",
      "        [0.3947, 0.3170, 0.9306],\n",
      "        [0.2074, 0.8880, 0.4708],\n",
      "        [0.0809, 0.2792, 0.8710]])\n"
     ]
    }
   ],
   "source": [
    "x = x.new_ones(5,3,dtype=torch.double)\n",
    "print(x)\n",
    "\n",
    "x = torch.rand_like(x,dtype=torch.float)\n",
    "print(x)"
   ]
  },
  {
   "cell_type": "code",
   "execution_count": 10,
   "id": "rolled-clerk",
   "metadata": {},
   "outputs": [
    {
     "name": "stdout",
     "output_type": "stream",
     "text": [
      "torch.Size([5, 3])\n"
     ]
    }
   ],
   "source": [
    "#x.size() - 행렬의 크기\n",
    "print(x.size())"
   ]
  },
  {
   "cell_type": "code",
   "execution_count": 11,
   "id": "geographic-lunch",
   "metadata": {
    "scrolled": true
   },
   "outputs": [
    {
     "name": "stdout",
     "output_type": "stream",
     "text": [
      "tensor([[0.7366, 1.1990, 1.3885],\n",
      "        [0.4016, 0.3924, 0.9778],\n",
      "        [1.0763, 0.6992, 1.8626],\n",
      "        [0.5246, 1.0588, 0.6808],\n",
      "        [0.3128, 0.7391, 1.7447]])\n"
     ]
    }
   ],
   "source": [
    "#행렬 간 덧셈 수행\n",
    "y = torch.rand(5,3)\n",
    "print(x+y)"
   ]
  },
  {
   "cell_type": "code",
   "execution_count": 12,
   "id": "intelligent-edward",
   "metadata": {},
   "outputs": [
    {
     "name": "stdout",
     "output_type": "stream",
     "text": [
      "tensor([[-9.8170e+02,  4.5566e-41, -1.3840e-29],\n",
      "        [ 3.0871e-41,  4.4842e-44,  0.0000e+00],\n",
      "        [ 8.9683e-44,  0.0000e+00, -1.3910e-29],\n",
      "        [ 3.0871e-41,  0.0000e+00,  0.0000e+00],\n",
      "        [ 4.4842e-44,  0.0000e+00,  1.1210e-43]])\n",
      "tensor([[0.7366, 1.1990, 1.3885],\n",
      "        [0.4016, 0.3924, 0.9778],\n",
      "        [1.0763, 0.6992, 1.8626],\n",
      "        [0.5246, 1.0588, 0.6808],\n",
      "        [0.3128, 0.7391, 1.7447]])\n"
     ]
    }
   ],
   "source": [
    "result = torch.empty(5,3)\n",
    "#비어있지만 무수히 작은 입실론이 존재함.\n",
    "print(result)\n",
    "torch.add(x,y,out=result)\n",
    "print(result)"
   ]
  },
  {
   "cell_type": "code",
   "execution_count": 19,
   "id": "literary-breeding",
   "metadata": {},
   "outputs": [
    {
     "name": "stdout",
     "output_type": "stream",
     "text": [
      "tensor([[3.8541, 2.7415, 6.0581],\n",
      "        [1.6337, 1.1894, 2.7416],\n",
      "        [3.4446, 2.6009, 7.4463],\n",
      "        [1.7690, 6.3868, 3.5055],\n",
      "        [0.7980, 2.4140, 6.9709]])\n",
      "tensor([3.8541, 1.6337, 3.4446, 1.7690, 0.7980])\n",
      "tensor([2.7415, 1.1894, 2.6009, 6.3868, 2.4140])\n",
      "tensor([6.0581, 2.7416, 7.4463, 3.5055, 6.9709])\n",
      "tensor([3.8541, 2.7415, 6.0581])\n"
     ]
    }
   ],
   "source": [
    "# torch.add(x,y,out=result) = y.add_(x) 와 동일\n",
    "# 행렬 바꾸기 방식은 _ 가 붙어서 진행\n",
    "y.add_(x)\n",
    "print(y)\n",
    "# Numpy 방식\n",
    "print(y[:,0]) # 1열을 출력\n",
    "print(y[:,1]) # 2열을 출력\n",
    "print(y[:,2]) # 3열을 출력\n",
    "print(y[0,:]) # 1행을 출력"
   ]
  },
  {
   "cell_type": "code",
   "execution_count": 22,
   "id": "enabling-aging",
   "metadata": {},
   "outputs": [
    {
     "name": "stdout",
     "output_type": "stream",
     "text": [
      "tensor([0.8663, 0.3601, 0.4625, 0.6606, 0.3806, 0.9869, 0.3168, 0.3501, 0.3894,\n",
      "        0.7620, 0.6783, 0.8569, 0.6023, 0.0619, 0.6463, 0.4132])\n",
      "tensor([[0.8663, 0.3601, 0.4625, 0.6606, 0.3806, 0.9869, 0.3168, 0.3501],\n",
      "        [0.3894, 0.7620, 0.6783, 0.8569, 0.6023, 0.0619, 0.6463, 0.4132]])\n",
      "torch.Size([4, 4]) torch.Size([16]) torch.Size([2, 8])\n"
     ]
    }
   ],
   "source": [
    "#행렬의 크기 나 모양을 변경하고 싶다면\n",
    "x = torch.rand(4,4) # 4X4 행렬\n",
    "y = x.view(16)  # 16X1 행렬\n",
    "z = x.view(-1,8) # 2X8 행렬\n",
    "print(y)\n",
    "print(z)\n",
    "print(x.size(),y.size(),z.size())"
   ]
  },
  {
   "cell_type": "code",
   "execution_count": 24,
   "id": "internal-burst",
   "metadata": {},
   "outputs": [
    {
     "name": "stdout",
     "output_type": "stream",
     "text": [
      "tensor([-1.1203])\n",
      "-1.120332956314087\n"
     ]
    }
   ],
   "source": [
    "x = torch.randn(1)\n",
    "print(x)\n",
    "print(x.item())"
   ]
  },
  {
   "cell_type": "code",
   "execution_count": 29,
   "id": "exact-kitty",
   "metadata": {},
   "outputs": [
    {
     "name": "stdout",
     "output_type": "stream",
     "text": [
      "tensor([1., 1., 1., 1., 1.])\n",
      "tensor([1., 1., 1., 1., 1., 1., 1., 1., 1., 1.])\n",
      "tensor([2., 2., 2., 2., 2.])\n",
      "tensor([4., 4., 4., 4., 4., 4., 4., 4., 4., 4.])\n"
     ]
    }
   ],
   "source": [
    "# 1 X 5 의 E 행렬 생성\n",
    "a = torch.ones(5)\n",
    "print(a)\n",
    "b = torch.ones(10)\n",
    "print(b)\n",
    "\n",
    "a.add_(1)\n",
    "print(a)\n",
    "b.add_(3)\n",
    "print(b)"
   ]
  },
  {
   "cell_type": "code",
   "execution_count": 31,
   "id": "fuzzy-damages",
   "metadata": {},
   "outputs": [
    {
     "name": "stdout",
     "output_type": "stream",
     "text": [
      "[2. 2. 2. 2. 2.]\n",
      "tensor([2., 2., 2., 2., 2.], dtype=torch.float64)\n",
      "tensor([6., 6., 6., 6., 6.], dtype=torch.float64)\n"
     ]
    }
   ],
   "source": [
    "# Tensor 와 Numpy 로 형성된 Array 행렬은 서로 상호 치환 가능하다.\n",
    "import numpy as np\n",
    "a = np.ones(5)\n",
    "b = torch.from_numpy(a)\n",
    "np.add(a,1,out=a)\n",
    "print(a)\n",
    "print(b)\n",
    "b.add_(4)\n",
    "print(b)"
   ]
  }
 ],
 "metadata": {
  "kernelspec": {
   "display_name": "Python 3",
   "language": "python",
   "name": "python3"
  },
  "language_info": {
   "codemirror_mode": {
    "name": "ipython",
    "version": 3
   },
   "file_extension": ".py",
   "mimetype": "text/x-python",
   "name": "python",
   "nbconvert_exporter": "python",
   "pygments_lexer": "ipython3",
   "version": "3.9.1"
  }
 },
 "nbformat": 4,
 "nbformat_minor": 5
}
