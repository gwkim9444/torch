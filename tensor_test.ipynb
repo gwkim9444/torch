{
 "cells": [
  {
   "cell_type": "code",
   "execution_count": 1,
   "id": "civil-johnson",
   "metadata": {},
   "outputs": [],
   "source": [
    "from __future__ import print_function"
   ]
  },
  {
   "cell_type": "code",
   "execution_count": 2,
   "id": "fatty-preference",
   "metadata": {},
   "outputs": [],
   "source": [
    "import torch"
   ]
  },
  {
   "cell_type": "code",
   "execution_count": 4,
   "id": "american-exemption",
   "metadata": {},
   "outputs": [
    {
     "name": "stdout",
     "output_type": "stream",
     "text": [
      "tensor([[2.9316e-06, 4.5818e-41, 2.9316e-06],\n",
      "        [4.5818e-41, 2.1122e+20, 1.0812e-05],\n",
      "        [4.2882e-08, 6.6291e-10, 5.4455e-05],\n",
      "        [1.6613e-07, 4.1577e+21, 2.0942e+23],\n",
      "        [2.3049e-12, 7.1429e+31, 2.5226e-18]])\n"
     ]
    }
   ],
   "source": [
    "x = torch.empty(5,3)\n",
    "print(x)"
   ]
  },
  {
   "cell_type": "code",
   "execution_count": 6,
   "id": "incorporated-batch",
   "metadata": {},
   "outputs": [
    {
     "name": "stdout",
     "output_type": "stream",
     "text": [
      "tensor([[0.0467, 0.5102, 0.9600],\n",
      "        [0.4626, 0.4864, 0.3084],\n",
      "        [0.9663, 0.1441, 0.9563],\n",
      "        [0.4059, 0.3462, 0.3151],\n",
      "        [0.6634, 0.2860, 0.4012]])\n"
     ]
    }
   ],
   "source": [
    "x = torch.rand(5,3)\n",
    "print(x)"
   ]
  },
  {
   "cell_type": "code",
   "execution_count": 7,
   "id": "primary-spending",
   "metadata": {},
   "outputs": [
    {
     "name": "stdout",
     "output_type": "stream",
     "text": [
      "tensor([[0, 0, 0],\n",
      "        [0, 0, 0],\n",
      "        [0, 0, 0],\n",
      "        [0, 0, 0],\n",
      "        [0, 0, 0]])\n"
     ]
    }
   ],
   "source": [
    "x = torch.zeros(5,3,dtype=torch.long)\n",
    "x = print(x)"
   ]
  },
  {
   "cell_type": "code",
   "execution_count": 8,
   "id": "generous-kitchen",
   "metadata": {},
   "outputs": [
    {
     "name": "stdout",
     "output_type": "stream",
     "text": [
      "tensor([5.5000, 3.0000])\n"
     ]
    }
   ],
   "source": [
    "x = torch.tensor([5.5,3])\n",
    "print(x)"
   ]
  },
  {
   "cell_type": "code",
   "execution_count": 9,
   "id": "practical-supervision",
   "metadata": {
    "scrolled": true
   },
   "outputs": [
    {
     "name": "stdout",
     "output_type": "stream",
     "text": [
      "tensor([[1., 1., 1.],\n",
      "        [1., 1., 1.],\n",
      "        [1., 1., 1.],\n",
      "        [1., 1., 1.],\n",
      "        [1., 1., 1.]], dtype=torch.float64)\n",
      "tensor([[0.6054, 0.4572, 0.1337],\n",
      "        [0.3835, 0.1276, 0.9844],\n",
      "        [0.0400, 0.2139, 0.4739],\n",
      "        [0.2975, 0.0048, 0.5554],\n",
      "        [0.4550, 0.5097, 0.1705]])\n"
     ]
    }
   ],
   "source": [
    "x = x.new_ones(5,3,dtype=torch.double)\n",
    "print(x)\n",
    "\n",
    "x = torch.rand_like(x,dtype=torch.float)\n",
    "print(x)"
   ]
  },
  {
   "cell_type": "code",
   "execution_count": 10,
   "id": "rolled-clerk",
   "metadata": {},
   "outputs": [
    {
     "name": "stdout",
     "output_type": "stream",
     "text": [
      "torch.Size([5, 3])\n"
     ]
    }
   ],
   "source": [
    "#x.size() - 행렬의 크기\n",
    "print(x.size())"
   ]
  },
  {
   "cell_type": "code",
   "execution_count": 13,
   "id": "geographic-lunch",
   "metadata": {
    "scrolled": true
   },
   "outputs": [
    {
     "name": "stdout",
     "output_type": "stream",
     "text": [
      "tensor([[1.1300, 1.1967, 0.8436],\n",
      "        [0.5035, 1.0709, 1.1360],\n",
      "        [0.5302, 0.3745, 0.6240],\n",
      "        [0.7057, 0.1845, 1.4483],\n",
      "        [0.7806, 1.2706, 0.1877]])\n"
     ]
    }
   ],
   "source": [
    "#행렬 간 덧셈 수행\n",
    "y = torch.rand(5,3)\n",
    "print(x+y)"
   ]
  },
  {
   "cell_type": "code",
   "execution_count": 16,
   "id": "intelligent-edward",
   "metadata": {},
   "outputs": [
    {
     "name": "stdout",
     "output_type": "stream",
     "text": [
      "tensor([[8.2016e-23, 3.0967e-41, 8.1002e-23],\n",
      "        [3.0967e-41, 1.1210e-43, 0.0000e+00],\n",
      "        [8.9683e-44, 0.0000e+00, 0.0000e+00],\n",
      "        [0.0000e+00, 0.0000e+00, 0.0000e+00],\n",
      "        [2.6677e-23, 0.0000e+00, 0.0000e+00]])\n",
      "tensor([[1.1300, 1.1967, 0.8436],\n",
      "        [0.5035, 1.0709, 1.1360],\n",
      "        [0.5302, 0.3745, 0.6240],\n",
      "        [0.7057, 0.1845, 1.4483],\n",
      "        [0.7806, 1.2706, 0.1877]])\n"
     ]
    }
   ],
   "source": [
    "result = torch.empty(5,3)\n",
    "#비어있지만 무수히 작은 입실론이 존재함.\n",
    "print(result)\n",
    "torch.add(x,y,out=result)\n",
    "print(result)"
   ]
  },
  {
   "cell_type": "code",
   "execution_count": null,
   "id": "literary-breeding",
   "metadata": {},
   "outputs": [],
   "source": [
    "y.add_(x)"
   ]
  }
 ],
 "metadata": {
  "kernelspec": {
   "display_name": "Python 3",
   "language": "python",
   "name": "python3"
  },
  "language_info": {
   "codemirror_mode": {
    "name": "ipython",
    "version": 3
   },
   "file_extension": ".py",
   "mimetype": "text/x-python",
   "name": "python",
   "nbconvert_exporter": "python",
   "pygments_lexer": "ipython3",
   "version": "3.9.1"
  }
 },
 "nbformat": 4,
 "nbformat_minor": 5
}
